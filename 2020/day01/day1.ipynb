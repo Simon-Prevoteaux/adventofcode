{
 "cells": [
  {
   "cell_type": "code",
   "execution_count": 1,
   "id": "e62db5c8-8eca-4ff9-af72-33ac95bfa799",
   "metadata": {},
   "outputs": [],
   "source": [
    "import pandas \n",
    "import itertools\n",
    "import math\n",
    "df = pandas.read_csv(\"input.txt\", header=None, names=[\"vals\"])"
   ]
  },
  {
   "cell_type": "code",
   "execution_count": 22,
   "id": "11ae2e38-460e-4ead-a285-aaf95fa41b8f",
   "metadata": {},
   "outputs": [
    {
     "data": {
      "text/plain": [
       "1010884"
      ]
     },
     "execution_count": 22,
     "metadata": {},
     "output_type": "execute_result"
    }
   ],
   "source": [
    "math.prod([item for item in itertools.combinations(df.vals, 2) if sum(item)==2020][0])"
   ]
  },
  {
   "cell_type": "code",
   "execution_count": 23,
   "id": "5b5f78ad-dea9-421a-b81b-c7a7e443f6de",
   "metadata": {},
   "outputs": [
    {
     "data": {
      "text/plain": [
       "253928438"
      ]
     },
     "execution_count": 23,
     "metadata": {},
     "output_type": "execute_result"
    }
   ],
   "source": [
    "math.prod([item for item in itertools.combinations(df.vals, 3) if sum(item)==2020][0])"
   ]
  }
 ],
 "metadata": {
  "kernelspec": {
   "display_name": "Python 3",
   "language": "python",
   "name": "python3"
  },
  "language_info": {
   "codemirror_mode": {
    "name": "ipython",
    "version": 3
   },
   "file_extension": ".py",
   "mimetype": "text/x-python",
   "name": "python",
   "nbconvert_exporter": "python",
   "pygments_lexer": "ipython3",
   "version": "3.8.8"
  }
 },
 "nbformat": 4,
 "nbformat_minor": 5
}
