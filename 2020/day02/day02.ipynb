{
 "cells": [
  {
   "cell_type": "code",
   "execution_count": 5,
   "id": "29745087-1c47-4d6e-ac00-3f924ead0798",
   "metadata": {},
   "outputs": [],
   "source": [
    "import pandas \n",
    "import itertools\n",
    "import math\n",
    "df = pandas.read_csv(\"input.txt\", header=None, sep=' ',names=[\"interval\",\"letter\",\"pwd\"])"
   ]
  },
  {
   "cell_type": "markdown",
   "id": "528dc66c-862a-4a08-8588-d45ad8ddc0eb",
   "metadata": {},
   "source": [
    "Sarting with a bit of data cleaning, to have the good columns with good format"
   ]
  },
  {
   "cell_type": "code",
   "execution_count": 26,
   "id": "1f522c47-3884-43cd-a218-18990faaf1ac",
   "metadata": {},
   "outputs": [],
   "source": [
    "df.letter = df.letter.str.rstrip(\":\")\n",
    "df[[\"min\",\"max\"]] = df.interval.str.split(\"-\",expand=True)\n",
    "df[[\"min\",\"max\"]] = df[[\"min\",\"max\"]].astype(int)"
   ]
  },
  {
   "cell_type": "markdown",
   "id": "8fef1a52-7e13-4f32-b9fa-404b4da01b04",
   "metadata": {},
   "source": [
    "## Part 1"
   ]
  },
  {
   "cell_type": "markdown",
   "id": "7037a143-efe0-4ded-8092-0fba5fd3fdd7",
   "metadata": {},
   "source": [
    "Let's count the number of letter in each password"
   ]
  },
  {
   "cell_type": "code",
   "execution_count": 27,
   "id": "dcb1d4a1-763e-4bc9-9a41-0e01cde99669",
   "metadata": {},
   "outputs": [],
   "source": [
    "df[\"count\"] = df.apply(lambda x:x.pwd.count(x.letter),axis=1)"
   ]
  },
  {
   "cell_type": "markdown",
   "id": "42d8bdc6-7e29-4a25-ad6e-963a8ef738d3",
   "metadata": {},
   "source": [
    "Now let's check the the number of letters in the password is inside our interval"
   ]
  },
  {
   "cell_type": "code",
   "execution_count": 34,
   "id": "92af5250-2d0d-47b4-a9a2-3ebacc91fecc",
   "metadata": {},
   "outputs": [],
   "source": [
    "df[\"correct\"] = df.apply(lambda x:1 if x[\"min\"] <= x[\"count\"]<=x[\"max\"] else 0 ,axis=1)"
   ]
  },
  {
   "cell_type": "markdown",
   "id": "3189320e-71f7-4f5d-b9a5-90ebd4d026ab",
   "metadata": {},
   "source": [
    "Now just count the number of correct answer"
   ]
  },
  {
   "cell_type": "code",
   "execution_count": 36,
   "id": "7187218c-dc85-4452-b800-b867c01432e3",
   "metadata": {},
   "outputs": [
    {
     "data": {
      "text/plain": [
       "465"
      ]
     },
     "execution_count": 36,
     "metadata": {},
     "output_type": "execute_result"
    }
   ],
   "source": [
    "df[\"correct\"].sum()"
   ]
  },
  {
   "cell_type": "markdown",
   "id": "14320f1a-04bf-4111-bacc-a90773b6dc1f",
   "metadata": {},
   "source": [
    "## Part 2"
   ]
  },
  {
   "cell_type": "markdown",
   "id": "6ef6581c-bc5a-425c-a743-d5d8fe9d62d0",
   "metadata": {},
   "source": [
    "We just have to check if the letter is the right one with the two values, and count if 0,1 or 2 letters are at the given positions<"
   ]
  },
  {
   "cell_type": "code",
   "execution_count": 47,
   "id": "9fb46abd-e97b-4bde-86c0-78f66555054b",
   "metadata": {
    "tags": []
   },
   "outputs": [],
   "source": [
    "df[\"count2\"] = df.apply(lambda x: sum((x.pwd[x[\"min\"]-1]==x[\"letter\"],x.pwd[x[\"max\"]-1]==x[\"letter\"])),axis=1)"
   ]
  },
  {
   "cell_type": "markdown",
   "id": "7205f005-c0c2-4d82-93ef-293799282f6e",
   "metadata": {},
   "source": [
    "Just count the number of items with 1 correct position "
   ]
  },
  {
   "cell_type": "code",
   "execution_count": 50,
   "id": "4992655e-bed1-4d3d-87c8-98f0fc97734a",
   "metadata": {},
   "outputs": [
    {
     "data": {
      "text/plain": [
       "294"
      ]
     },
     "execution_count": 50,
     "metadata": {},
     "output_type": "execute_result"
    }
   ],
   "source": [
    "sum(df[\"count2\"]==1)"
   ]
  }
 ],
 "metadata": {
  "kernelspec": {
   "display_name": "Python 3",
   "language": "python",
   "name": "python3"
  },
  "language_info": {
   "codemirror_mode": {
    "name": "ipython",
    "version": 3
   },
   "file_extension": ".py",
   "mimetype": "text/x-python",
   "name": "python",
   "nbconvert_exporter": "python",
   "pygments_lexer": "ipython3",
   "version": "3.8.8"
  }
 },
 "nbformat": 4,
 "nbformat_minor": 5
}
