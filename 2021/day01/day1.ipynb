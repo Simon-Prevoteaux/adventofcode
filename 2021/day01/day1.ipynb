{
 "cells": [
  {
   "cell_type": "code",
   "execution_count": 12,
   "id": "aced4b6e-aefd-4d77-b77f-2e85a04f6885",
   "metadata": {},
   "outputs": [],
   "source": [
    "import pandas \n",
    "df = pandas.read_csv(\"input.txt\", header=None, names=[\"depths\"])"
   ]
  },
  {
   "cell_type": "markdown",
   "id": "df736f50-52f4-400e-93f0-70558cf0c7dc",
   "metadata": {},
   "source": [
    "Part 1 : get diff between consecutive elements, keep the one greater than 0 and sums the boolean to count the occurences"
   ]
  },
  {
   "cell_type": "code",
   "execution_count": 14,
   "id": "1f532567-6709-4d72-963d-563499346992",
   "metadata": {},
   "outputs": [
    {
     "data": {
      "text/plain": [
       "1529"
      ]
     },
     "execution_count": 14,
     "metadata": {},
     "output_type": "execute_result"
    }
   ],
   "source": [
    "sum(df.depths.diff()>0)"
   ]
  },
  {
   "cell_type": "markdown",
   "id": "65e17323-038f-4c25-9698-ae1618aed2f7",
   "metadata": {},
   "source": [
    "Part 2 : same as part 1, just add a rolling window of 3 to perform the sum"
   ]
  },
  {
   "cell_type": "code",
   "execution_count": 17,
   "id": "f88c6cb1-911d-4209-9816-7dd47ed7436f",
   "metadata": {},
   "outputs": [
    {
     "data": {
      "text/plain": [
       "1567"
      ]
     },
     "execution_count": 17,
     "metadata": {},
     "output_type": "execute_result"
    }
   ],
   "source": [
    "sum(df.rolling(window=3).sum().depths.diff()>0)"
   ]
  }
 ],
 "metadata": {
  "kernelspec": {
   "display_name": "Python 3",
   "language": "python",
   "name": "python3"
  },
  "language_info": {
   "codemirror_mode": {
    "name": "ipython",
    "version": 3
   },
   "file_extension": ".py",
   "mimetype": "text/x-python",
   "name": "python",
   "nbconvert_exporter": "python",
   "pygments_lexer": "ipython3",
   "version": "3.8.8"
  }
 },
 "nbformat": 4,
 "nbformat_minor": 5
}
