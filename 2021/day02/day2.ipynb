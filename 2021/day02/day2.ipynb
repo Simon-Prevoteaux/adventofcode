{
 "cells": [
  {
   "cell_type": "code",
   "execution_count": 1,
   "id": "6c7e68ef-ed60-482e-bb25-e2250c8c6aad",
   "metadata": {},
   "outputs": [],
   "source": [
    "import pandas \n",
    "import numpy as np \n",
    "import math\n",
    "df = pandas.read_csv(\"input.txt\", header=None, names=[\"command\",\"step\"], sep=\" \")"
   ]
  },
  {
   "cell_type": "markdown",
   "id": "e29b3a06-3d2e-4999-88d8-2191238dc0af",
   "metadata": {},
   "source": [
    "## Part 1"
   ]
  },
  {
   "cell_type": "code",
   "execution_count": 2,
   "id": "28c5a89c-1a9e-4833-8ec8-fd8561ac5a75",
   "metadata": {},
   "outputs": [],
   "source": [
    "instructions = {\"forward\":[1,0], \"up\":[0,-1],\"down\":[0,1]}\n",
    "df[\"vect_command\"] = df[\"command\"].map(instructions).apply(lambda x: np.array(x))"
   ]
  },
  {
   "cell_type": "code",
   "execution_count": 3,
   "id": "57692c57-0d00-4e36-b8a3-0e41a6cc97f9",
   "metadata": {},
   "outputs": [
    {
     "data": {
      "text/plain": [
       "2073315"
      ]
     },
     "execution_count": 3,
     "metadata": {},
     "output_type": "execute_result"
    }
   ],
   "source": [
    "math.prod(np.multiply(df.vect_command, df.step).sum())"
   ]
  },
  {
   "cell_type": "markdown",
   "id": "d4e19069-8349-4414-aee9-a30bf4c72e1b",
   "metadata": {},
   "source": [
    "## Part 2"
   ]
  },
  {
   "cell_type": "code",
   "execution_count": 5,
   "id": "2d825a6e-48ab-4106-8cc4-630338a9bac0",
   "metadata": {},
   "outputs": [],
   "source": [
    "df[\"aim\"] = df.apply(lambda x:x.step if x[\"command\"]==\"down\" else(-x.step if x[\"command\"]==\"up\" else 0), axis=1).cumsum()"
   ]
  },
  {
   "cell_type": "code",
   "execution_count": 6,
   "id": "41bbf573-19d8-4c75-b978-5db4afcc8ff1",
   "metadata": {},
   "outputs": [],
   "source": [
    "df[\"vect_command_aim\"] = df.apply(lambda x:(x.vect_command+[0,x.aim]) if x.command==\"forward\" else [0,0],axis=1).apply(lambda x: np.array(x))"
   ]
  },
  {
   "cell_type": "code",
   "execution_count": 7,
   "id": "9491be44-30b6-402b-8515-0c274daca3ad",
   "metadata": {
    "tags": []
   },
   "outputs": [
    {
     "data": {
      "text/plain": [
       "1840311528"
      ]
     },
     "execution_count": 7,
     "metadata": {},
     "output_type": "execute_result"
    }
   ],
   "source": [
    "math.prod(np.multiply(df.vect_command_aim, df.step).sum())"
   ]
  }
 ],
 "metadata": {
  "kernelspec": {
   "display_name": "Python 3",
   "language": "python",
   "name": "python3"
  },
  "language_info": {
   "codemirror_mode": {
    "name": "ipython",
    "version": 3
   },
   "file_extension": ".py",
   "mimetype": "text/x-python",
   "name": "python",
   "nbconvert_exporter": "python",
   "pygments_lexer": "ipython3",
   "version": "3.8.8"
  }
 },
 "nbformat": 4,
 "nbformat_minor": 5
}
