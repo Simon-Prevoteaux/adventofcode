{
 "cells": [
  {
   "cell_type": "code",
   "execution_count": 1,
   "id": "a1889536-9fb0-43ae-b137-fea5e38c1e7a",
   "metadata": {},
   "outputs": [],
   "source": [
    "import pandas \n",
    "import numpy as np \n",
    "import math\n",
    "df = pandas.read_csv(\"input.txt\", dtype=object, header=None, names=[\"bin\"])"
   ]
  },
  {
   "cell_type": "markdown",
   "id": "8d2ba1fc-043b-4d0b-9c94-23391a832f07",
   "metadata": {},
   "source": [
    "## Part 1"
   ]
  },
  {
   "cell_type": "code",
   "execution_count": 2,
   "id": "10d4e7ca-97f1-4cec-9459-3562bca5ea0c",
   "metadata": {},
   "outputs": [],
   "source": [
    "df = df.bin.str.split('',expand=True).drop([0,13],axis=1)\n",
    "df = df.apply(pandas.to_numeric)"
   ]
  },
  {
   "cell_type": "code",
   "execution_count": 3,
   "id": "c0c1a531-e381-46a3-a8b0-b2664243d8f2",
   "metadata": {},
   "outputs": [],
   "source": [
    "gamma = int(''.join(df.apply(lambda x:\"1\" if x.sum()>len(x)/2 else \"0\")),2)\n",
    "epsilon = int(''.join(df.apply(lambda x:\"1\" if x.sum()<len(x)/2 else \"0\")),2)"
   ]
  },
  {
   "cell_type": "code",
   "execution_count": 4,
   "id": "0f7930cc-036c-41df-a8b7-32e2c5e30197",
   "metadata": {},
   "outputs": [
    {
     "name": "stdout",
     "output_type": "stream",
     "text": [
      "738234\n"
     ]
    }
   ],
   "source": [
    "print(gamma*epsilon)"
   ]
  },
  {
   "cell_type": "markdown",
   "id": "af147e9c-3c43-4d9d-a5e1-c8a0a7c96c11",
   "metadata": {},
   "source": [
    "## Part 2"
   ]
  },
  {
   "cell_type": "code",
   "execution_count": 5,
   "id": "b752c829-1cff-485b-a6fe-911041a35b0e",
   "metadata": {},
   "outputs": [],
   "source": [
    "def filtrer_with_bit_criteria_ogr(df,col):\n",
    "    val = df.apply(lambda x:1 if x.sum()>=len(x)/2 else 0)[col]\n",
    "    filtered_df = df[df[col]==val]\n",
    "    if len(filtered_df)==1:\n",
    "        return filtered_df\n",
    "    else:\n",
    "        return filtrer_with_bit_criteria_ogr(filtered_df,col+1)"
   ]
  },
  {
   "cell_type": "code",
   "execution_count": 6,
   "id": "0f2cad27-00ad-461d-a308-dae4d1e206db",
   "metadata": {},
   "outputs": [
    {
     "name": "stdout",
     "output_type": "stream",
     "text": [
      "1071\n"
     ]
    }
   ],
   "source": [
    "ogr = int(''.join(list(filtrer_with_bit_criteria_ogr(df,1).values[0].astype(str))),2)\n",
    "print(ogr)"
   ]
  },
  {
   "cell_type": "code",
   "execution_count": 7,
   "id": "3f0aa3b7-03c3-4f3b-9f73-7c3c0fdf64c8",
   "metadata": {},
   "outputs": [],
   "source": [
    "def filtrer_with_bit_criteria_csr(df,col):\n",
    "    val = df.apply(lambda x:1 if x.sum()<len(x)/2 else 0)[col]\n",
    "    filtered_df = df[df[col]==val]\n",
    "    if len(filtered_df)==1:\n",
    "        return filtered_df\n",
    "    else:\n",
    "        return filtrer_with_bit_criteria_csr(filtered_df,col+1)"
   ]
  },
  {
   "cell_type": "code",
   "execution_count": 8,
   "id": "52790456-2ba9-46e6-a978-33c3adc790b5",
   "metadata": {},
   "outputs": [
    {
     "name": "stdout",
     "output_type": "stream",
     "text": [
      "3706\n"
     ]
    }
   ],
   "source": [
    "csr = int(''.join(list(filtrer_with_bit_criteria_csr(df,1).values[0].astype(str))),2)\n",
    "print(csr)"
   ]
  },
  {
   "cell_type": "code",
   "execution_count": 9,
   "id": "16376bce-824f-43c5-aa6a-a356b3f311b8",
   "metadata": {},
   "outputs": [
    {
     "data": {
      "text/plain": [
       "3969126"
      ]
     },
     "execution_count": 9,
     "metadata": {},
     "output_type": "execute_result"
    }
   ],
   "source": [
    "ogr*csr"
   ]
  },
  {
   "cell_type": "markdown",
   "id": "0a09d3a7-cedd-48c3-9bdf-4c55872f5841",
   "metadata": {},
   "source": [
    "## Usefull"
   ]
  },
  {
   "cell_type": "code",
   "execution_count": 10,
   "id": "a6678764-d210-4e8c-aea3-8289c288d386",
   "metadata": {},
   "outputs": [
    {
     "data": {
      "text/plain": [
       "[(0, 511)]"
      ]
     },
     "execution_count": 10,
     "metadata": {},
     "output_type": "execute_result"
    }
   ],
   "source": [
    "from collections import Counter\n",
    "occurence_count = Counter(df[1])\n",
    "occurence_count.most_common(1)"
   ]
  }
 ],
 "metadata": {
  "kernelspec": {
   "display_name": "Python 3 (ipykernel)",
   "language": "python",
   "name": "python3"
  },
  "language_info": {
   "codemirror_mode": {
    "name": "ipython",
    "version": 3
   },
   "file_extension": ".py",
   "mimetype": "text/x-python",
   "name": "python",
   "nbconvert_exporter": "python",
   "pygments_lexer": "ipython3",
   "version": "3.9.12"
  }
 },
 "nbformat": 4,
 "nbformat_minor": 5
}
