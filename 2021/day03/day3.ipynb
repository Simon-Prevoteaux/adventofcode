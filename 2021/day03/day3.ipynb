{
 "cells": [
  {
   "cell_type": "code",
   "execution_count": 106,
   "id": "a1889536-9fb0-43ae-b137-fea5e38c1e7a",
   "metadata": {},
   "outputs": [],
   "source": [
    "import pandas \n",
    "import numpy as np \n",
    "import math\n",
    "df = pandas.read_csv(\"input.txt\", dtype=object, header=None, names=[\"bin\"])"
   ]
  },
  {
   "cell_type": "markdown",
   "id": "8d2ba1fc-043b-4d0b-9c94-23391a832f07",
   "metadata": {},
   "source": [
    "## Part 1"
   ]
  },
  {
   "cell_type": "code",
   "execution_count": 109,
   "id": "10d4e7ca-97f1-4cec-9459-3562bca5ea0c",
   "metadata": {},
   "outputs": [],
   "source": [
    "df = df.bin.str.split('',expand=True).drop([0,13],axis=1)\n",
    "df = df.apply(pandas.to_numeric)"
   ]
  },
  {
   "cell_type": "code",
   "execution_count": 116,
   "id": "c0c1a531-e381-46a3-a8b0-b2664243d8f2",
   "metadata": {},
   "outputs": [],
   "source": [
    "gamma = int(''.join(df.apply(lambda x:\"1\" if x.sum()>len(x)/2 else \"0\")),2)\n",
    "epsilon = int(''.join(df.apply(lambda x:\"1\" if x.sum()<len(x)/2 else \"0\")),2)"
   ]
  },
  {
   "cell_type": "code",
   "execution_count": 117,
   "id": "0f7930cc-036c-41df-a8b7-32e2c5e30197",
   "metadata": {},
   "outputs": [
    {
     "name": "stdout",
     "output_type": "stream",
     "text": [
      "738234\n"
     ]
    }
   ],
   "source": [
    "print(gamma*epsilon)"
   ]
  },
  {
   "cell_type": "markdown",
   "id": "af147e9c-3c43-4d9d-a5e1-c8a0a7c96c11",
   "metadata": {},
   "source": [
    "## Part 2"
   ]
  },
  {
   "cell_type": "code",
   "execution_count": null,
   "id": "22ec34c9-7c7f-4335-baa9-ad42904a91e4",
   "metadata": {},
   "outputs": [],
   "source": []
  },
  {
   "cell_type": "markdown",
   "id": "0a09d3a7-cedd-48c3-9bdf-4c55872f5841",
   "metadata": {},
   "source": [
    "## Usefull"
   ]
  },
  {
   "cell_type": "code",
   "execution_count": 104,
   "id": "a6678764-d210-4e8c-aea3-8289c288d386",
   "metadata": {},
   "outputs": [
    {
     "data": {
      "text/plain": [
       "[(0, 511)]"
      ]
     },
     "execution_count": 104,
     "metadata": {},
     "output_type": "execute_result"
    }
   ],
   "source": [
    "from collections import Counter\n",
    "occurence_count = Counter(df[1])\n",
    "occurence_count.most_common(1)"
   ]
  }
 ],
 "metadata": {
  "kernelspec": {
   "display_name": "Python 3",
   "language": "python",
   "name": "python3"
  },
  "language_info": {
   "codemirror_mode": {
    "name": "ipython",
    "version": 3
   },
   "file_extension": ".py",
   "mimetype": "text/x-python",
   "name": "python",
   "nbconvert_exporter": "python",
   "pygments_lexer": "ipython3",
   "version": "3.8.8"
  }
 },
 "nbformat": 4,
 "nbformat_minor": 5
}
