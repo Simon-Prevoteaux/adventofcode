{
 "cells": [
  {
   "cell_type": "code",
   "execution_count": 26,
   "id": "21dd57e1-f8d4-4d3f-a47f-f46f66d56e00",
   "metadata": {},
   "outputs": [],
   "source": [
    "import numpy as np"
   ]
  },
  {
   "cell_type": "code",
   "execution_count": 11,
   "id": "9f46756f-539b-4b4b-9642-02c98dc76e32",
   "metadata": {},
   "outputs": [],
   "source": [
    "f= open('input.txt')\n",
    "content = f.read()\n",
    "content = content.split(\"\\n\\n\")"
   ]
  },
  {
   "cell_type": "code",
   "execution_count": 45,
   "id": "8ee3e0e2-0f7a-48e8-9efa-9ae57982da9a",
   "metadata": {},
   "outputs": [],
   "source": [
    "numbers = content[0].split(',')\n",
    "boards = content[1:]"
   ]
  },
  {
   "cell_type": "code",
   "execution_count": 300,
   "id": "0a34502c-f211-4c73-8d1c-388a82a9ab79",
   "metadata": {},
   "outputs": [],
   "source": [
    "class Bingo:\n",
    "    \n",
    "    def __init__(self):\n",
    "        self.boards = []\n",
    "        \n",
    "    def add_board(self, grid_values):\n",
    "        self.boards.append(Board(grid_values))\n",
    "        \n",
    "    def draw_number(self, nb):\n",
    "        for board in self.boards:\n",
    "            has_win = board.play(nb)\n",
    "            if has_win:\n",
    "                return has_win,board.grid_values,board.grid_bool\n",
    "        return False,[],[]\n",
    "    \n",
    "    \n",
    "    def party(self,numbers):\n",
    "        for number in numbers:\n",
    "            stop, grid, grid_bools = self.draw_number(number)\n",
    "            if stop:\n",
    "                return number,grid, grid_bools\n",
    "                \n",
    "class Board:\n",
    "    \n",
    "    def __init__(self, grid_values):\n",
    "        self.grid_values = np.array([line.split() for line in grid_values.split(\"\\n\") if len(line)>0 ])\n",
    "        self.grid_bool = np.zeros((5,5))\n",
    "        \n",
    "    def play(self,nb):\n",
    "        ind = np.argwhere(self.grid_values == nb)\n",
    "        if len(ind)>0:\n",
    "            self.grid_bool[tuple(ind[0])]=1\n",
    "        return self.has_win()\n",
    "    \n",
    "    def has_win(self):\n",
    "        has_win_bool = any([self.grid_bool[i,:].all() for i in range(5)] + [self.grid_bool[:,j].all() for j in range(5)])\n",
    "        if has_win_bool:\n",
    "            print(self.grid_values, self.grid_bool)\n",
    "        return has_win_bool"
   ]
  },
  {
   "cell_type": "code",
   "execution_count": 301,
   "id": "e046ea8b-c78f-47f7-aab1-0c4e0b813cb9",
   "metadata": {
    "tags": []
   },
   "outputs": [
    {
     "name": "stdout",
     "output_type": "stream",
     "text": [
      "[['99' '19' '74' '0' '9']\n",
      " ['59' '92' '67' '82' '69']\n",
      " ['72' '46' '63' '51' '77']\n",
      " ['2' '45' '66' '28' '12']\n",
      " ['93' '38' '15' '64' '27']] [[0. 0. 1. 1. 0.]\n",
      " [0. 0. 1. 0. 0.]\n",
      " [0. 1. 1. 1. 1.]\n",
      " [0. 0. 1. 1. 1.]\n",
      " [0. 1. 1. 1. 0.]]\n"
     ]
    }
   ],
   "source": [
    "bingo = Bingo()\n",
    "for board in boards:\n",
    "    bingo.add_board(board)\n",
    "number, grid, bools = bingo.party(numbers)"
   ]
  },
  {
   "cell_type": "code",
   "execution_count": 302,
   "id": "04d1b53f-3f96-474f-ad26-950af8d9817c",
   "metadata": {},
   "outputs": [
    {
     "data": {
      "text/plain": [
       "44088.0"
      ]
     },
     "execution_count": 302,
     "metadata": {},
     "output_type": "execute_result"
    }
   ],
   "source": [
    "grid[bools==0].astype(float).sum()*float(number)"
   ]
  }
 ],
 "metadata": {
  "kernelspec": {
   "display_name": "Python 3",
   "language": "python",
   "name": "python3"
  },
  "language_info": {
   "codemirror_mode": {
    "name": "ipython",
    "version": 3
   },
   "file_extension": ".py",
   "mimetype": "text/x-python",
   "name": "python",
   "nbconvert_exporter": "python",
   "pygments_lexer": "ipython3",
   "version": "3.8.8"
  }
 },
 "nbformat": 4,
 "nbformat_minor": 5
}
