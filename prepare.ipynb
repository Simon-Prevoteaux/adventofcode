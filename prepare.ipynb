{
 "cells": [
  {
   "cell_type": "code",
   "execution_count": 15,
   "id": "98cfbbcd-29b9-4a2b-b390-2cc3160f1546",
   "metadata": {},
   "outputs": [],
   "source": [
    "import os\n",
    "from pathlib import Path"
   ]
  },
  {
   "cell_type": "code",
   "execution_count": 21,
   "id": "181e343f-18ac-41b4-b3b6-e0b479dd9fff",
   "metadata": {},
   "outputs": [],
   "source": [
    "YEAR = '2021'"
   ]
  },
  {
   "cell_type": "code",
   "execution_count": 22,
   "id": "c7e8d685-27ef-429a-9bfc-b4fb1c069e3e",
   "metadata": {},
   "outputs": [],
   "source": [
    "#first create the folder corresponding to the year you are working on\n",
    "if not os.path.isdir(YEAR):\n",
    "    os.mkdir(YEAR)\n",
    "\n",
    "#for each day, create a folder with an empty notebook inside of it\n",
    "for i in range(1,26):\n",
    "    day_number = str(i)\n",
    "    if len(day_number)==1:\n",
    "        day_number=\"0\"+day_number\n",
    "    folder_name = \"day\"+day_number\n",
    "    path = os.path.join(YEAR, folder_name)\n",
    "    if not os.path.isdir(path):\n",
    "        os.mkdir(path)\n",
    "        Path(path+\"/\"+folder_name+\".ipynb\").touch()"
   ]
  }
 ],
 "metadata": {
  "kernelspec": {
   "display_name": "Python 3 (ipykernel)",
   "language": "python",
   "name": "python3"
  },
  "language_info": {
   "codemirror_mode": {
    "name": "ipython",
    "version": 3
   },
   "file_extension": ".py",
   "mimetype": "text/x-python",
   "name": "python",
   "nbconvert_exporter": "python",
   "pygments_lexer": "ipython3",
   "version": "3.9.12"
  }
 },
 "nbformat": 4,
 "nbformat_minor": 5
}
